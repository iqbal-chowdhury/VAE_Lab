{
 "cells": [
  {
   "cell_type": "code",
   "execution_count": 23,
   "metadata": {
    "collapsed": true
   },
   "outputs": [],
   "source": [
    "%matplotlib inline\n",
    "import numpy as np\n",
    "np.random.seed(1337)\n",
    "import matplotlib.pyplot as plt\n",
    "from keras.datasets import mnist\n",
    "from random import randint\n",
    "\n",
    "from matplotlib.pyplot import scatter, imshow"
   ]
  },
  {
   "cell_type": "code",
   "execution_count": 213,
   "metadata": {
    "collapsed": false
   },
   "outputs": [],
   "source": [
    "def nshow(img):\n",
    "    if img.ndim == 4:\n",
    "        img = img[0]\n",
    "    if img.ndim == 3:\n",
    "        img = img[:,:,0]\n",
    "    plt.imshow(img)\n",
    "    \n",
    "    \n",
    "def oddone(img):\n",
    "    canvas = np.zeros((56, 56))\n",
    "    for i, (a, b) in enumerate([(0,0), (0,28), (28,0), (28,28)]):\n",
    "        canvas[a:a+28, b:b+28] = img[:,:,i]\n",
    "    plt.imshow(canvas)"
   ]
  },
  {
   "cell_type": "code",
   "execution_count": 33,
   "metadata": {
    "collapsed": false
   },
   "outputs": [],
   "source": [
    "(x_train, y_train), (x_test, y_test) = mnist.load_data()\n",
    "\n",
    "img_shape = x_train[0].shape\n",
    "\n",
    "x_train = x_train.astype('float32') / 255.\n",
    "# x_train = x_train.reshape((len(x_train),) + img_shape + (1,))\n",
    "x_test = x_test.astype('float32') / 255.\n",
    "# x_test = x_test.reshape((len(x_test),)  + img_shape + (1,))"
   ]
  },
  {
   "cell_type": "code",
   "execution_count": 34,
   "metadata": {
    "collapsed": false
   },
   "outputs": [],
   "source": [
    "nums = [x_train[y_train  == i] for i in range(10)]\n",
    "lens = [len(num) for num in nums]"
   ]
  },
  {
   "cell_type": "code",
   "execution_count": 35,
   "metadata": {
    "collapsed": false
   },
   "outputs": [
    {
     "data": {
      "image/png": "[encoded data removed]",
      "text/plain": [
       "<matplotlib.figure.Figure at 0x7efc43a3a080>"
      ]
     },
     "metadata": {},
     "output_type": "display_data"
    }
   ],
   "source": [
    "nshow(nums[2][0])"
   ]
  },
  {
   "cell_type": "code",
   "execution_count": 36,
   "metadata": {
    "collapsed": false
   },
   "outputs": [
    {
     "data": {
      "image/png": "[encoded data removed]",
      "text/plain": [
       "<matplotlib.figure.Figure at 0x7efc40704cf8>"
      ]
     },
     "metadata": {},
     "output_type": "display_data"
    }
   ],
   "source": [
    "nshow(np.mean(nums[5], axis=0))"
   ]
  },
  {
   "cell_type": "code",
   "execution_count": 225,
   "metadata": {
    "collapsed": false
   },
   "outputs": [],
   "source": [
    "def generate_bogies(training_set):\n",
    "    bogies = []\n",
    "    for i, x in enumerate(training_set):\n",
    "        y = y_train[i]\n",
    "        r_digit = randint(0,9) # bogey number\n",
    "        while r_digit == y:\n",
    "            r_digit = randint(0,9) # avoid duplicates\n",
    "        L = lens[r_digit] - 1 # max index\n",
    "        n_digits = [randint(0, L) for i in range(3)]\n",
    "        bogey = [nums[r_digit][n] for n in n_digits]\n",
    "    #     bogey = np.array(bogey)\n",
    "    #     bogey = np.swapaxes(bogey, 0,2)\n",
    "        bogies.append(bogey)\n",
    "    bogies = np.array(bogies)\n",
    "    x_train_s = training_set.reshape((len(training_set), -1, 28, 28))[:len(bogies)]\n",
    "    oot = np.concatenate([x_train_s, bogies], axis=1)\n",
    "    oot2 = np.moveaxis(oot, 1,3)\n",
    "    oot3 = np.array([np.roll(frame, randint(0,3), axis=2) for frame in oot2])\n",
    "    return oot3"
   ]
  },
  {
   "cell_type": "code",
   "execution_count": 234,
   "metadata": {
    "collapsed": false
   },
   "outputs": [
    {
     "data": {
      "image/png": "[encoded data removed]",
      "text/plain": [
       "<matplotlib.figure.Figure at 0x7efc520306d8>"
      ]
     },
     "metadata": {},
     "output_type": "display_data"
    }
   ],
   "source": [
    "bogies = generate_bogies(x_train)\n",
    "bogies_test = generate_bogies(x_test)\n",
    "bogies.shape, bogies_test.shape\n",
    "oddone(bogies[0])"
   ]
  },
  {
   "cell_type": "code",
   "execution_count": 255,
   "metadata": {
    "collapsed": false
   },
   "outputs": [
    {
     "name": "stdout",
     "output_type": "stream",
     "text": [
      "(10000, 28, 28, 4)\n"
     ]
    },
    {
     "data": {
      "image/png": "[encoded data removed]",
      "text/plain": [
       "<matplotlib.figure.Figure at 0x7efc439a47f0>"
      ]
     },
     "metadata": {},
     "output_type": "display_data"
    }
   ],
   "source": [
    "\n",
    "print(bogies_test.shape)\n",
    "oddone(bogies_test[9])"
   ]
  },
  {
   "cell_type": "code",
   "execution_count": 238,
   "metadata": {
    "collapsed": false
   },
   "outputs": [
    {
     "data": {
      "text/plain": [
       "1.0"
      ]
     },
     "execution_count": 238,
     "metadata": {},
     "output_type": "execute_result"
    }
   ],
   "source": [
    "np.amax(bogies)"
   ]
  },
  {
   "cell_type": "code",
   "execution_count": 237,
   "metadata": {
    "collapsed": true
   },
   "outputs": [],
   "source": [
    "np.save('x_oot_train', bogies)\n",
    "np.save('x_oot_test', bogies_test)"
   ]
  },
  {
   "cell_type": "code",
   "execution_count": 257,
   "metadata": {
    "collapsed": true
   },
   "outputs": [],
   "source": [
    "'''This script demonstrates how to build a variational autoencoder\n",
    "with Keras and deconvolution layers.\n",
    "\n",
    "Reference: \"Auto-Encoding Variational Bayes\" https://arxiv.org/abs/1312.6114\n",
    "'''\n",
    "import numpy as np\n",
    "np.random.seed(1337)\n",
    "import time\n",
    "import matplotlib.pyplot as plt\n",
    "from scipy.stats import norm\n",
    "\n",
    "from keras.layers import Input, Dense, Lambda, Flatten, Reshape\n",
    "from keras.layers import Conv2D, Conv2DTranspose\n",
    "from keras.models import Model\n",
    "from keras import backend as K\n",
    "from keras import metrics\n",
    "from keras.datasets import mnist\n",
    "\n",
    "from keras_tqdm import TQDMNotebookCallback"
   ]
  },
  {
   "cell_type": "code",
   "execution_count": null,
   "metadata": {
    "collapsed": false
   },
   "outputs": [],
   "source": []
  },
  {
   "cell_type": "code",
   "execution_count": 258,
   "metadata": {
    "collapsed": false
   },
   "outputs": [
    {
     "name": "stdout",
     "output_type": "stream",
     "text": [
      "x_train.shape: (60000, 28, 28, 1)\n"
     ]
    }
   ],
   "source": [
    "# train the VAE on MNIST digits\n",
    "(x_train, y_train), (x_test, y_test) = mnist.load_data()\n",
    "original_img_size = x_train[0].shape + (1,)\n",
    "\n",
    "x_train = x_train.astype('float32') / 255.\n",
    "x_train = x_train.reshape((x_train.shape[0],) + original_img_size)\n",
    "\n",
    "x_test = x_test.astype('float32') / 255.\n",
    "x_test = x_test.reshape((x_test.shape[0],) + original_img_size)\n",
    "\n",
    "print('x_train.shape:', x_train.shape)"
   ]
  },
  {
   "cell_type": "code",
   "execution_count": 263,
   "metadata": {
    "collapsed": false
   },
   "outputs": [
    {
     "name": "stdout",
     "output_type": "stream",
     "text": [
      "(60000, 28, 28, 4) (10000, 28, 28, 4)\n",
      "(28, 28, 4)\n"
     ]
    }
   ],
   "source": [
    "x_oot_train = np.load('x_oot_train.npy')\n",
    "x_oot_test = np.load('x_oot_test.npy')\n",
    "print(x_oot_train.shape, x_oot_test.shape)\n",
    "original_img_size = x_oot_train[0].shape\n",
    "print(original_img_size)"
   ]
  },
  {
   "cell_type": "code",
   "execution_count": 265,
   "metadata": {
    "collapsed": false
   },
   "outputs": [
    {
     "name": "stdout",
     "output_type": "stream",
     "text": [
      "channel last\n",
      "____________________________________________________________________________________________________\n",
      "Layer (type)                     Output Shape          Param #     Connected to                     \n",
      "====================================================================================================\n",
      "input_5 (InputLayer)             (100, 28, 28, 4)      0                                            \n",
      "____________________________________________________________________________________________________\n",
      "conv2d_21 (Conv2D)               (100, 28, 28, 4)      68                                           \n",
      "____________________________________________________________________________________________________\n",
      "conv2d_22 (Conv2D)               (100, 14, 14, 64)     1088                                         \n",
      "____________________________________________________________________________________________________\n",
      "conv2d_23 (Conv2D)               (100, 14, 14, 64)     36928                                        \n",
      "____________________________________________________________________________________________________\n",
      "conv2d_24 (Conv2D)               (100, 14, 14, 64)     36928                                        \n",
      "____________________________________________________________________________________________________\n",
      "flatten_5 (Flatten)              (100, 12544)          0                                            \n",
      "____________________________________________________________________________________________________\n",
      "dense_21 (Dense)                 (100, 128)            1605760                                      \n",
      "____________________________________________________________________________________________________\n",
      "dense_22 (Dense)                 (100, 2)              258                                          \n",
      "____________________________________________________________________________________________________\n",
      "dense_23 (Dense)                 (100, 2)              258                                          \n",
      "____________________________________________________________________________________________________\n",
      "lambda_5 (Lambda)                (100, 2)              0                                            \n",
      "____________________________________________________________________________________________________\n",
      "dense_24 (Dense)                 (100, 128)            384                                          \n",
      "____________________________________________________________________________________________________\n",
      "dense_25 (Dense)                 (100, 12544)          1618176                                      \n",
      "____________________________________________________________________________________________________\n",
      "reshape_5 (Reshape)              (100, 14, 14, 64)     0                                            \n",
      "____________________________________________________________________________________________________\n",
      "conv2d_transpose_13 (Conv2DTrans (100, 14, 14, 64)     36928                                        \n",
      "____________________________________________________________________________________________________\n",
      "conv2d_transpose_14 (Conv2DTrans (100, 14, 14, 64)     36928                                        \n",
      "____________________________________________________________________________________________________\n",
      "conv2d_transpose_15 (Conv2DTrans (100, 29, 29, 64)     36928                                        \n",
      "____________________________________________________________________________________________________\n",
      "conv2d_25 (Conv2D)               (100, 28, 28, 1)      257                                          \n",
      "====================================================================================================\n",
      "Total params: 3,410,889\n",
      "Trainable params: 3,410,889\n",
      "Non-trainable params: 0\n",
      "____________________________________________________________________________________________________\n"
     ]
    }
   ],
   "source": [
    "beta_kl = K.variable(value=0.0)\n",
    "beta_xe = K.variable(value=1.0)\n",
    "\n",
    "# input image dimensions\n",
    "img_rows, img_cols, img_chns = original_img_size\n",
    "# number of convolutional filters to use\n",
    "filters = 64\n",
    "# convolution kernel size\n",
    "num_conv = 3\n",
    "\n",
    "batch_size = 100\n",
    "if K.image_data_format() == 'channels_first':\n",
    "    original_img_size = (img_chns, img_rows, img_cols)\n",
    "    print(\"channel first\")\n",
    "else:\n",
    "    original_img_size = (img_rows, img_cols, img_chns)\n",
    "    print(\"channel last\")\n",
    "latent_dim = 2\n",
    "intermediate_dim = 128\n",
    "epsilon_std = 1.0\n",
    "epochs = 4\n",
    "conv_act = 'relu'\n",
    "\n",
    "x = Input(batch_shape=(batch_size,) + original_img_size)\n",
    "conv_1 = Conv2D(img_chns,\n",
    "                kernel_size=(2, 2),\n",
    "                padding='same', activation='elu')(x)\n",
    "conv_2 = Conv2D(filters,\n",
    "                kernel_size=(2, 2),\n",
    "                padding='same', activation='elu',\n",
    "                strides=(2, 2))(conv_1)\n",
    "conv_3 = Conv2D(filters,\n",
    "                kernel_size=num_conv,\n",
    "                padding='same', activation='elu',\n",
    "                strides=1)(conv_2)\n",
    "conv_4 = Conv2D(filters,\n",
    "                kernel_size=num_conv,\n",
    "                padding='same', activation='elu',\n",
    "                strides=1)(conv_3)\n",
    "flat = Flatten()(conv_4)\n",
    "hidden = Dense(intermediate_dim, activation='elu')(flat)\n",
    "\n",
    "z_mean = Dense(latent_dim)(hidden)\n",
    "z_log_var = Dense(latent_dim)(hidden)\n",
    "\n",
    "\n",
    "def sampling(args):\n",
    "    z_mean, z_log_var = args\n",
    "    epsilon = K.random_normal(shape=(batch_size, latent_dim),\n",
    "                              mean=0., stddev=epsilon_std)\n",
    "    return z_mean + K.exp(z_log_var) * epsilon\n",
    "\n",
    "# note that \"output_shape\" isn't necessary with the TensorFlow backend\n",
    "# so you could write `Lambda(sampling)([z_mean, z_log_var])`\n",
    "z = Lambda(sampling, output_shape=(latent_dim,))([z_mean, z_log_var])\n",
    "\n",
    "# we instantiate these layers separately so as to reuse them later\n",
    "decoder_hid = Dense(intermediate_dim, activation='elu')\n",
    "decoder_upsample = Dense(filters * 14 * 14, activation='elu')\n",
    "\n",
    "if K.image_data_format() == 'channels_first':\n",
    "    output_shape = (batch_size, filters, 14, 14)\n",
    "else:\n",
    "    output_shape = (batch_size, 14, 14, filters)\n",
    "\n",
    "decoder_reshape = Reshape(output_shape[1:])\n",
    "decoder_deconv_1 = Conv2DTranspose(filters,\n",
    "                                   kernel_size=num_conv,\n",
    "                                   padding='same',\n",
    "                                   strides=1,\n",
    "                                   activation='elu')\n",
    "decoder_deconv_2 = Conv2DTranspose(filters, num_conv,\n",
    "                                   padding='same',\n",
    "                                   strides=1,\n",
    "                                   activation='elu')\n",
    "if K.image_data_format() == 'channels_first':\n",
    "    output_shape = (batch_size, filters, 29, 29)\n",
    "else:\n",
    "    output_shape = (batch_size, 29, 29, filters)\n",
    "decoder_deconv_3_upsamp = Conv2DTranspose(filters,\n",
    "                                          kernel_size=(3, 3),\n",
    "                                          strides=(2, 2),\n",
    "                                          padding='valid',\n",
    "                                          activation='elu')\n",
    "decoder_mean_squash = Conv2D(1,\n",
    "                             kernel_size=2,\n",
    "                             padding='valid',\n",
    "                             activation='sigmoid')\n",
    "\n",
    "hid_decoded = decoder_hid(z)\n",
    "up_decoded = decoder_upsample(hid_decoded)\n",
    "reshape_decoded = decoder_reshape(up_decoded)\n",
    "deconv_1_decoded = decoder_deconv_1(reshape_decoded)\n",
    "deconv_2_decoded = decoder_deconv_2(deconv_1_decoded)\n",
    "x_decoded_relu = decoder_deconv_3_upsamp(deconv_2_decoded)\n",
    "x_decoded_mean_squash = decoder_mean_squash(x_decoded_relu)\n",
    "\n",
    "\n",
    "\n",
    "def vae_loss(x, x_decoded_mean):\n",
    "    # NOTE: binary_crossentropy expects a batch_size by dim\n",
    "    # for x and x_decoded_mean, so we MUST flatten these!\n",
    "    x = K.flatten(x)\n",
    "    x_decoded_mean = K.flatten(x_decoded_mean)\n",
    "    xent_loss = img_rows * img_cols * metrics.binary_crossentropy(x, x_decoded_mean)\n",
    "    kl_loss = - 0.5 * K.mean(1 + z_log_var - K.square(z_mean) - K.exp(z_log_var), axis=-1)\n",
    "    return beta_xe*xent_loss + beta_kl*kl_loss\n",
    "\n",
    "\n",
    "vae = Model(x, x_decoded_mean_squash)\n",
    "vae.compile(optimizer='rmsprop', loss=vae_loss)\n",
    "vae.summary()"
   ]
  },
  {
   "cell_type": "code",
   "execution_count": null,
   "metadata": {
    "collapsed": false
   },
   "outputs": [],
   "source": []
  },
  {
   "cell_type": "code",
   "execution_count": null,
   "metadata": {
    "collapsed": true
   },
   "outputs": [],
   "source": []
  },
  {
   "cell_type": "code",
   "execution_count": 266,
   "metadata": {
    "collapsed": true
   },
   "outputs": [],
   "source": [
    "# build a model to project inputs on the latent space\n",
    "encoder = Model(x, z_mean)\n",
    "def plot_latent():\n",
    "    # display a 2D plot of the digit classes in the latent space\n",
    "    x_test_encoded = encoder.predict(x_test, batch_size=batch_size)\n",
    "    plt.figure(figsize=(6, 6))\n",
    "    plt.scatter(x_test_encoded[:, 0], x_test_encoded[:, 1], c=y_test, cmap='Vega10')\n",
    "    plt.colorbar()\n",
    "    plt.show()"
   ]
  },
  {
   "cell_type": "code",
   "execution_count": null,
   "metadata": {
    "collapsed": true
   },
   "outputs": [],
   "source": [
    "K.set_value(beta_xe, 1.0)\n",
    "K.set_value(beta_kl, 0.0)\n",
    "start = time.time()\n",
    "N=60000\n",
    "vae.fit(x_train[:], x_train[:],\n",
    "        shuffle=True,\n",
    "        nb_epoch=5,\n",
    "        batch_size=batch_size,\n",
    "        validation_data=(x_test, x_test), \n",
    "        callbacks=[TQDMNotebookCallback()], verbose=0)\n",
    "stop = time.time()\n",
    "elapsed = stop-start\n",
    "print(\"Activation:\", conv_act)\n",
    "print(\"Process time: {:.2f}, {:.3f}s/epoch\".format(elapsed, elapsed/epochs))"
   ]
  },
  {
   "cell_type": "code",
   "execution_count": null,
   "metadata": {
    "collapsed": true
   },
   "outputs": [],
   "source": [
    "K.set_value(beta_xe, 1.0)\n",
    "K.set_value(beta_kl, 0.5)\n",
    "vae.fit(x_train[:], x_train[:],\n",
    "        shuffle=True,\n",
    "        nb_epoch=5,\n",
    "        batch_size=batch_size,\n",
    "        validation_data=(x_test, x_test), \n",
    "        callbacks=[TQDMNotebookCallback()], verbose=0)"
   ]
  },
  {
   "cell_type": "code",
   "execution_count": null,
   "metadata": {
    "collapsed": true
   },
   "outputs": [],
   "source": [
    "# build a digit generator that can sample from the learned distribution\n",
    "decoder_input = Input(shape=(latent_dim,))\n",
    "_hid_decoded = decoder_hid(decoder_input)\n",
    "_up_decoded = decoder_upsample(_hid_decoded)\n",
    "_reshape_decoded = decoder_reshape(_up_decoded)\n",
    "_deconv_1_decoded = decoder_deconv_1(_reshape_decoded)\n",
    "_deconv_2_decoded = decoder_deconv_2(_deconv_1_decoded)\n",
    "_x_decoded_relu = decoder_deconv_3_upsamp(_deconv_2_decoded)\n",
    "_x_decoded_mean_squash = decoder_mean_squash(_x_decoded_relu)\n",
    "generator = Model(decoder_input, _x_decoded_mean_squash)\n",
    "\n",
    "# display a 2D manifold of the digits\n",
    "n = 15  # figure with 15x15 digits\n",
    "digit_size = 28\n",
    "figure = np.zeros((digit_size * n, digit_size * n))\n",
    "# linearly spaced coordinates on the unit square were transformed through the inverse CDF (ppf) of the Gaussian\n",
    "# to produce values of the latent variables z, since the prior of the latent space is Gaussian\n",
    "grid_x = norm.ppf(np.linspace(0.05, 0.95, n))\n",
    "grid_y = norm.ppf(np.linspace(0.05, 0.95, n))\n",
    "\n",
    "for i, yi in enumerate(grid_x):\n",
    "    for j, xi in enumerate(grid_y):\n",
    "        z_sample = np.array([[xi, yi]])\n",
    "        z_sample = np.tile(z_sample, batch_size).reshape(batch_size, 2)\n",
    "        x_decoded = generator.predict(z_sample, batch_size=batch_size)\n",
    "        digit = x_decoded[0].reshape(digit_size, digit_size)\n",
    "        figure[i * digit_size: (i + 1) * digit_size,\n",
    "               j * digit_size: (j + 1) * digit_size] = digit\n",
    "\n",
    "plt.figure(figsize=(10, 10))\n",
    "plt.imshow(figure, cmap='Greys_r')\n",
    "plt.show()"
   ]
  }
 ],
 "metadata": {
  "kernelspec": {
   "display_name": "Python 3",
   "language": "python",
   "name": "python3"
  },
  "language_info": {
   "codemirror_mode": {
    "name": "ipython",
    "version": 3
   },
   "file_extension": ".py",
   "mimetype": "text/x-python",
   "name": "python",
   "nbconvert_exporter": "python",
   "pygments_lexer": "ipython3",
   "version": "3.5.2"
  }
 },
 "nbformat": 4,
 "nbformat_minor": 2
}
